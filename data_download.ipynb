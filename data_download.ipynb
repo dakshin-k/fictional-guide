{
 "cells": [
  {
   "cell_type": "code",
   "execution_count": 1,
   "id": "a9afa77a",
   "metadata": {},
   "outputs": [],
   "source": [
    "import pandas as pd\n",
    "import pandas as pd\n",
    "from yfinance import download"
   ]
  },
  {
   "cell_type": "code",
   "execution_count": 2,
   "id": "f6ed560e",
   "metadata": {},
   "outputs": [
    {
     "data": {
      "text/html": [
       "<div>\n",
       "<style scoped>\n",
       "    .dataframe tbody tr th:only-of-type {\n",
       "        vertical-align: middle;\n",
       "    }\n",
       "\n",
       "    .dataframe tbody tr th {\n",
       "        vertical-align: top;\n",
       "    }\n",
       "\n",
       "    .dataframe thead th {\n",
       "        text-align: right;\n",
       "    }\n",
       "</style>\n",
       "<table border=\"1\" class=\"dataframe\">\n",
       "  <thead>\n",
       "    <tr style=\"text-align: right;\">\n",
       "      <th></th>\n",
       "      <th>SYMBOL</th>\n",
       "      <th>OPEN</th>\n",
       "      <th>HIGH</th>\n",
       "      <th>LOW</th>\n",
       "      <th>PREV.CLOSE</th>\n",
       "      <th>LTP</th>\n",
       "      <th>INDICATIVECLOSE</th>\n",
       "      <th>CHNG</th>\n",
       "      <th>%CHNG</th>\n",
       "      <th>VOLUME(shares)</th>\n",
       "      <th>VALUE(₹Crores)</th>\n",
       "      <th>52WH</th>\n",
       "      <th>52WL</th>\n",
       "      <th>30D%CHNG</th>\n",
       "      <th>365D%CHNG</th>\n",
       "    </tr>\n",
       "  </thead>\n",
       "  <tbody>\n",
       "    <tr>\n",
       "      <th>0</th>\n",
       "      <td>NIFTY 200</td>\n",
       "      <td>14,420.20</td>\n",
       "      <td>14,434.40</td>\n",
       "      <td>14,369.00</td>\n",
       "      <td>14,377.25</td>\n",
       "      <td>14,391.75</td>\n",
       "      <td>-</td>\n",
       "      <td>14.50</td>\n",
       "      <td>0.10</td>\n",
       "      <td>40,12,28,450</td>\n",
       "      <td>8,004.91</td>\n",
       "      <td>14,434.40</td>\n",
       "      <td>11,941.45</td>\n",
       "      <td>1.53</td>\n",
       "      <td>2.21</td>\n",
       "    </tr>\n",
       "    <tr>\n",
       "      <th>1</th>\n",
       "      <td>SWIGGY</td>\n",
       "      <td>427.00</td>\n",
       "      <td>433.90</td>\n",
       "      <td>424.00</td>\n",
       "      <td>421.90</td>\n",
       "      <td>433.25</td>\n",
       "      <td>-</td>\n",
       "      <td>11.35</td>\n",
       "      <td>2.69</td>\n",
       "      <td>22,66,400</td>\n",
       "      <td>97.73</td>\n",
       "      <td>617.30</td>\n",
       "      <td>297.00</td>\n",
       "      <td>-7.97</td>\n",
       "      <td>-</td>\n",
       "    </tr>\n",
       "    <tr>\n",
       "      <th>2</th>\n",
       "      <td>ITCHOTELS</td>\n",
       "      <td>221.59</td>\n",
       "      <td>225.22</td>\n",
       "      <td>220.36</td>\n",
       "      <td>219.41</td>\n",
       "      <td>224.75</td>\n",
       "      <td>-</td>\n",
       "      <td>5.34</td>\n",
       "      <td>2.43</td>\n",
       "      <td>20,17,106</td>\n",
       "      <td>45.11</td>\n",
       "      <td>261.62</td>\n",
       "      <td>155.10</td>\n",
       "      <td>-7.32</td>\n",
       "      <td>-</td>\n",
       "    </tr>\n",
       "    <tr>\n",
       "      <th>3</th>\n",
       "      <td>SUZLON</td>\n",
       "      <td>53.60</td>\n",
       "      <td>54.34</td>\n",
       "      <td>53.40</td>\n",
       "      <td>53.09</td>\n",
       "      <td>54.17</td>\n",
       "      <td>-</td>\n",
       "      <td>1.08</td>\n",
       "      <td>2.03</td>\n",
       "      <td>2,28,21,584</td>\n",
       "      <td>123.17</td>\n",
       "      <td>74.30</td>\n",
       "      <td>46.15</td>\n",
       "      <td>-12.10</td>\n",
       "      <td>-26.46</td>\n",
       "    </tr>\n",
       "    <tr>\n",
       "      <th>4</th>\n",
       "      <td>ENRIN</td>\n",
       "      <td>3,124.00</td>\n",
       "      <td>3,159.00</td>\n",
       "      <td>3,105.00</td>\n",
       "      <td>3,100.80</td>\n",
       "      <td>3,157.00</td>\n",
       "      <td>-</td>\n",
       "      <td>56.20</td>\n",
       "      <td>1.81</td>\n",
       "      <td>34,372</td>\n",
       "      <td>10.79</td>\n",
       "      <td>3,625.00</td>\n",
       "      <td>2,508.80</td>\n",
       "      <td>-9.75</td>\n",
       "      <td>-</td>\n",
       "    </tr>\n",
       "  </tbody>\n",
       "</table>\n",
       "</div>"
      ],
      "text/plain": [
       "      SYMBOL       OPEN       HIGH        LOW PREV.CLOSE        LTP  \\\n",
       "0  NIFTY 200  14,420.20  14,434.40  14,369.00  14,377.25  14,391.75   \n",
       "1     SWIGGY     427.00     433.90     424.00     421.90     433.25   \n",
       "2  ITCHOTELS     221.59     225.22     220.36     219.41     224.75   \n",
       "3     SUZLON      53.60      54.34      53.40      53.09      54.17   \n",
       "4      ENRIN   3,124.00   3,159.00   3,105.00   3,100.80   3,157.00   \n",
       "\n",
       "  INDICATIVECLOSE   CHNG %CHNG VOLUME(shares) VALUE(₹Crores)       52WH  \\\n",
       "0               -  14.50  0.10   40,12,28,450       8,004.91  14,434.40   \n",
       "1               -  11.35  2.69      22,66,400          97.73     617.30   \n",
       "2               -   5.34  2.43      20,17,106          45.11     261.62   \n",
       "3               -   1.08  2.03    2,28,21,584         123.17      74.30   \n",
       "4               -  56.20  1.81         34,372          10.79   3,625.00   \n",
       "\n",
       "        52WL  30D%CHNG 365D%CHNG  \n",
       "0  11,941.45      1.53      2.21  \n",
       "1     297.00     -7.97         -  \n",
       "2     155.10     -7.32         -  \n",
       "3      46.15    -12.10    -26.46  \n",
       "4   2,508.80     -9.75         -  "
      ]
     },
     "execution_count": 2,
     "metadata": {},
     "output_type": "execute_result"
    }
   ],
   "source": [
    "\n",
    "nifty = pd.read_csv('nifty-200.csv')\n",
    "\n",
    "nifty.head()"
   ]
  },
  {
   "cell_type": "code",
   "execution_count": 3,
   "id": "28ae8db7",
   "metadata": {},
   "outputs": [],
   "source": [
    "symbols = [f'{name}.NS' for name in list(nifty['SYMBOL'])[1:]]"
   ]
  },
  {
   "cell_type": "code",
   "execution_count": 4,
   "id": "3847de57",
   "metadata": {},
   "outputs": [
    {
     "name": "stderr",
     "output_type": "stream",
     "text": [
      "/var/folders/q3/n5bd0fs90595wcs4v4p0ydl00000gn/T/ipykernel_78335/1855323054.py:1: FutureWarning: YF.download() has changed argument auto_adjust default to True\n",
      "  data = download(symbols, interval='1d', start='2024-10-26', end = '2025-10-26')\n",
      "[*********************100%***********************]  200 of 200 completed\n"
     ]
    }
   ],
   "source": [
    "data = download(symbols, interval='1d', start='2024-10-26', end = '2025-10-26')"
   ]
  },
  {
   "cell_type": "code",
   "execution_count": 48,
   "id": "aaba4a7a",
   "metadata": {},
   "outputs": [],
   "source": [
    "data['High'].to_csv('yfinance_high.csv')\n"
   ]
  },
  {
   "cell_type": "code",
   "execution_count": 34,
   "id": "cd387486",
   "metadata": {},
   "outputs": [],
   "source": [
    "tickers = list(data['Close'].keys())\n"
   ]
  },
  {
   "cell_type": "code",
   "execution_count": 42,
   "id": "ec17a0ae",
   "metadata": {},
   "outputs": [
    {
     "name": "stdout",
     "output_type": "stream",
     "text": [
      "995.6411743164062\n"
     ]
    }
   ],
   "source": [
    "rows = []\n",
    "for date in data.index:\n",
    "    for ticker in tickers:\n",
    "        print(data.loc[date, 'Close'][ticker])\n",
    "        break\n",
    "    break"
   ]
  },
  {
   "cell_type": "code",
   "execution_count": 57,
   "id": "cb336de8",
   "metadata": {},
   "outputs": [],
   "source": [
    "rows = []\n",
    "for date in data.index:\n",
    "    for ticker in tickers:\n",
    "        row = {\n",
    "            'trade_date': date.strftime('%Y-%m-%d'),\n",
    "            'ticker': ticker.replace('.NS',''),\n",
    "            'close': data.loc[date, 'Close'][ticker],\n",
    "            'open': data.loc[date, 'Open'][ticker],\n",
    "            'high': data.loc[date, 'High'][ticker],\n",
    "            'low': data.loc[date, 'Low'][ticker],\n",
    "            'volume': data.loc[date, 'Volume'][ticker],\n",
    "        }\n",
    "        rows.append(row)\n"
   ]
  },
  {
   "cell_type": "code",
   "execution_count": 58,
   "id": "8f8fb2ed",
   "metadata": {},
   "outputs": [],
   "source": [
    "import sqlite3\n",
    "import os\n",
    "import sqlite3\n",
    "db_path = \"buffet/db.sqlite3\"\n",
    "if os.path.exists(db_path):\n",
    "    conn = sqlite3.connect(db_path)\n",
    "else:\n",
    "    print('nope')"
   ]
  },
  {
   "cell_type": "code",
   "execution_count": 59,
   "id": "23f7e068",
   "metadata": {},
   "outputs": [],
   "source": [
    "cursor = conn.cursor()"
   ]
  },
  {
   "cell_type": "code",
   "execution_count": 60,
   "id": "01979a31",
   "metadata": {},
   "outputs": [],
   "source": [
    "for row in rows:\n",
    "        cursor.execute(\"INSERT INTO historicals (ticker, trade_date, open, high, low, close, volume) VALUES (?, ?, ?, ?, ?, ?, ?)\",\n",
    "                       (row['ticker'], row['trade_date'], row['open'], row['high'], row['low'], row['close'], row['volume']))\n"
   ]
  },
  {
   "cell_type": "code",
   "execution_count": 62,
   "id": "21a951e0",
   "metadata": {},
   "outputs": [],
   "source": [
    "conn.close()"
   ]
  }
 ],
 "metadata": {
  "kernelspec": {
   "display_name": "darva-K1wenKNy-py3.14",
   "language": "python",
   "name": "python3"
  },
  "language_info": {
   "codemirror_mode": {
    "name": "ipython",
    "version": 3
   },
   "file_extension": ".py",
   "mimetype": "text/x-python",
   "name": "python",
   "nbconvert_exporter": "python",
   "pygments_lexer": "ipython3",
   "version": "3.14.0"
  }
 },
 "nbformat": 4,
 "nbformat_minor": 5
}
