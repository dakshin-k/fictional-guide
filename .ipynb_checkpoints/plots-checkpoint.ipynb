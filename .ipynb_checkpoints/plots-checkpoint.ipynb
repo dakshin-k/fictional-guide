{
 "cells": [
  {
   "cell_type": "code",
   "execution_count": 1,
   "id": "f1adaa76",
   "metadata": {},
   "outputs": [],
   "source": [
    "import pandas as pd"
   ]
  },
  {
   "cell_type": "code",
   "execution_count": 7,
   "id": "98edf46a",
   "metadata": {},
   "outputs": [
    {
     "data": {
      "text/html": [
       "<div>\n",
       "<style scoped>\n",
       "    .dataframe tbody tr th:only-of-type {\n",
       "        vertical-align: middle;\n",
       "    }\n",
       "\n",
       "    .dataframe tbody tr th {\n",
       "        vertical-align: top;\n",
       "    }\n",
       "\n",
       "    .dataframe thead th {\n",
       "        text-align: right;\n",
       "    }\n",
       "</style>\n",
       "<table border=\"1\" class=\"dataframe\">\n",
       "  <thead>\n",
       "    <tr style=\"text-align: right;\">\n",
       "      <th></th>\n",
       "      <th>Date</th>\n",
       "      <th>ITC.NS</th>\n",
       "    </tr>\n",
       "  </thead>\n",
       "  <tbody>\n",
       "    <tr>\n",
       "      <th>0</th>\n",
       "      <td>2022-10-03</td>\n",
       "      <td>292.618378</td>\n",
       "    </tr>\n",
       "    <tr>\n",
       "      <th>1</th>\n",
       "      <td>2022-10-04</td>\n",
       "      <td>300.240540</td>\n",
       "    </tr>\n",
       "    <tr>\n",
       "      <th>2</th>\n",
       "      <td>2022-10-06</td>\n",
       "      <td>303.668274</td>\n",
       "    </tr>\n",
       "    <tr>\n",
       "      <th>3</th>\n",
       "      <td>2022-10-07</td>\n",
       "      <td>301.368073</td>\n",
       "    </tr>\n",
       "    <tr>\n",
       "      <th>4</th>\n",
       "      <td>2022-10-10</td>\n",
       "      <td>295.730438</td>\n",
       "    </tr>\n",
       "  </tbody>\n",
       "</table>\n",
       "</div>"
      ],
      "text/plain": [
       "         Date      ITC.NS\n",
       "0  2022-10-03  292.618378\n",
       "1  2022-10-04  300.240540\n",
       "2  2022-10-06  303.668274\n",
       "3  2022-10-07  301.368073\n",
       "4  2022-10-10  295.730438"
      ]
     },
     "execution_count": 7,
     "metadata": {},
     "output_type": "execute_result"
    }
   ],
   "source": [
    "df = pd.read_csv('yfinance_close.csv')[['Date', 'ITC.NS']]\n",
    "\n",
    "df.head()"
   ]
  },
  {
   "cell_type": "code",
   "execution_count": null,
   "id": "5d51e592",
   "metadata": {},
   "outputs": [],
   "source": [
    "import pandas as pd\n",
    "import matplotlib.pyplot as plt\n",
    "from ipywidgets import interact, widgets\n",
    "import matplotlib.dates as mdates\n",
    "\n",
    "# Load and prepare data\n",
    "df = pd.read_csv('yfinance_close.csv', parse_dates=['Date'])\n",
    "df = df[['Date', 'ITC.NS']].rename(columns={'ITC.NS': 'Close'})\n",
    "df = df.set_index('Date').sort_index()\n",
    "\n",
    "# Plot function for a 3-month window ending at the selected date\n",
    "def plot_window(end_date):\n",
    "    end = pd.to_datetime(end_date)\n",
    "    start = end - pd.DateOffset(months=3)\n",
    "\n",
    "    window = df.loc[df.index.to_series().between(start, end)]\n",
    "    if window.empty:\n",
    "        print(\"No data in window. Pick a later end date.\")\n",
    "        return\n",
    "\n",
    "    plt.figure(figsize=(10, 4))\n",
    "    plt.plot(window.index, window['Close'], color='steelblue')\n",
    "    plt.title(f'ITC.NS Close — {start.date()} to {end.date()}')\n",
    "    plt.ylabel('Close')\n",
    "    plt.xlabel('Date')\n",
    "    plt.grid(True, alpha=0.3)\n",
    "\n",
    "    ax = plt.gca()\n",
    "    locator = mdates.AutoDateLocator()\n",
    "    ax.xaxis.set_major_locator(locator)\n",
    "    ax.xaxis.set_major_formatter(mdates.ConciseDateFormatter(locator))\n",
    "    plt.tight_layout()\n",
    "    plt.show()\n",
    "\n",
    "# Slider over available dates to choose the window end\n",
    "end_slider = widgets.SelectionSlider(\n",
    "    options=list(df.index),\n",
    "    value=df.index[-1],\n",
    "    description='End',\n",
    "    orientation='horizontal',\n",
    "    layout={'width': '800px'}\n",
    ")\n",
    "\n",
    "interact(plot_window, end_date=end_slider)"
   ]
  },
  {
   "cell_type": "code",
   "execution_count": null,
   "id": "df2b4113",
   "metadata": {},
   "outputs": [],
   "source": []
  }
 ],
 "metadata": {
  "kernelspec": {
   "display_name": "darva-ukPAgPaY-py3.14",
   "language": "python",
   "name": "python3"
  },
  "language_info": {
   "codemirror_mode": {
    "name": "ipython",
    "version": 3
   },
   "file_extension": ".py",
   "mimetype": "text/x-python",
   "name": "python",
   "nbconvert_exporter": "python",
   "pygments_lexer": "ipython3",
   "version": "3.14.0"
  }
 },
 "nbformat": 4,
 "nbformat_minor": 5
}
